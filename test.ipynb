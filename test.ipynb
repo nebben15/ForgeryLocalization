{
 "cells": [
  {
   "cell_type": "code",
   "execution_count": 1,
   "id": "cedc5e12",
   "metadata": {},
   "outputs": [
    {
     "name": "stderr",
     "output_type": "stream",
     "text": [
      "/home/ben/Thesis/ForgeryLocalization/venv/lib/python3.10/site-packages/tqdm/auto.py:21: TqdmWarning: IProgress not found. Please update jupyter and ipywidgets. See https://ipywidgets.readthedocs.io/en/stable/user_install.html\n",
      "  from .autonotebook import tqdm as notebook_tqdm\n"
     ]
    }
   ],
   "source": [
    "import warnings\n",
    "import re\n",
    "\n",
    "from scripts import train, infer, evaluate\n",
    "from AVDeepfake1Mpp.code.metadata_generator import generate_metadata\n",
    "from utils.check_corruption import check_videos_for_corruption\n",
    "\n",
    "%load_ext autoreload\n",
    "%autoreload 2\n",
    "\n",
    "# ignore certain warnings\n",
    "warnings.filterwarnings(\n",
    "    \"ignore\", \n",
    "    message=\"The video decoding and encoding capabilities of torchvision are deprecated from version 0.22\"\n",
    ")"
   ]
  },
  {
   "cell_type": "markdown",
   "id": "eeb8b012",
   "metadata": {},
   "source": [
    "Check for corrupted videos:"
   ]
  },
  {
   "cell_type": "code",
   "execution_count": 2,
   "id": "66313b13",
   "metadata": {},
   "outputs": [],
   "source": [
    "# corrupted_files = check_videos_for_corruption(\"AVDeepfake1Mpp/data/\", max_workers=11)\n",
    "# print(corrupted_files)"
   ]
  },
  {
   "cell_type": "markdown",
   "id": "30302848",
   "metadata": {},
   "source": [
    "Goal: Run training for BA-TFD on a small subset of AV-Deepfake1M-PlusPlus to test the setup.\n",
    "\n",
    "Args:"
   ]
  },
  {
   "cell_type": "code",
   "execution_count": 3,
   "id": "e2bf1402",
   "metadata": {},
   "outputs": [],
   "source": [
    "train_args = {\n",
    "    \"config\": 'models/batfd/batfd.toml',\n",
    "    \"data_root\": 'AVDeepfake1Mpp/data/',\n",
    "    \"batch_size\": 8,\n",
    "    \"num_workers\": 11,\n",
    "    \"gpus\": 1,\n",
    "    \"precision\": 32,\n",
    "    \"num_train\": 100,\n",
    "    \"num_val\": 100,\n",
    "    \"max_epochs\": 2,\n",
    "    \"logger\": \"tensorboard\",\n",
    "    \"resume\": None\n",
    "}"
   ]
  },
  {
   "cell_type": "code",
   "execution_count": 4,
   "id": "a7151bb8",
   "metadata": {},
   "outputs": [
    {
     "name": "stdout",
     "output_type": "stream",
     "text": [
      "Existing metadata file AVDeepfake1Mpp/data/train_metadata.json has been removed.\n",
      "Metadata for train saved to AVDeepfake1Mpp/data/train_metadata.json\n",
      "Existing metadata file AVDeepfake1Mpp/data/val_metadata.json has been removed.\n",
      "Metadata for val saved to AVDeepfake1Mpp/data/val_metadata.json\n",
      "Existing file list AVDeepfake1Mpp/data/testA_files.txt has been removed.\n",
      "File list for testA saved to AVDeepfake1Mpp/data/testA_files.txt\n"
     ]
    }
   ],
   "source": [
    "# prepare metadata\n",
    "generate_metadata(train_args[\"data_root\"])"
   ]
  },
  {
   "cell_type": "code",
   "execution_count": 5,
   "id": "6c27c653",
   "metadata": {},
   "outputs": [],
   "source": [
    "#train(train_args)"
   ]
  },
  {
   "cell_type": "markdown",
   "id": "4f5ce28d",
   "metadata": {},
   "source": [
    "Run inference on validation set, as no labels are provided for the AVDeepfake1M test set:"
   ]
  },
  {
   "cell_type": "code",
   "execution_count": 6,
   "id": "0f6734da",
   "metadata": {},
   "outputs": [],
   "source": [
    "infer_args = {\n",
    "    \"output_dir\": \"predictions/\",\n",
    "    \"config\": train_args[\"config\"],\n",
    "    \"checkpoint\": \"ckpt/batfd/20250707-184844/last.ckpt\",  # update with actual checkpoint path\n",
    "    \"data_root\": train_args[\"data_root\"],\n",
    "    \"num_workers\": train_args[\"num_workers\"],\n",
    "    \"subset\": \"val\",  # use val for 'testing'\n",
    "    \"gpus\": train_args[\"gpus\"]\n",
    "}"
   ]
  },
  {
   "cell_type": "code",
   "execution_count": 7,
   "id": "771da383",
   "metadata": {},
   "outputs": [
    {
     "name": "stdout",
     "output_type": "stream",
     "text": [
      "Using device: cuda:0\n"
     ]
    },
    {
     "name": "stderr",
     "output_type": "stream",
     "text": [
      "GPU available: True (cuda), used: True\n",
      "TPU available: False, using: 0 TPU cores\n",
      "HPU available: False, using: 0 HPUs\n",
      "LOCAL_RANK: 0 - CUDA_VISIBLE_DEVICES: [0]\n"
     ]
    },
    {
     "name": "stdout",
     "output_type": "stream",
     "text": [
      "Loaded model!\n",
      "Loaded DataModule!\n",
      "Load 2607 data in train.\n",
      "Load 734 data in val.\n",
      "Load 1419 data in testA.\n",
      "Predicting DataLoader 0: 100%|██████████| 734/734 [01:28<00:00,  8.27it/s]\n"
     ]
    },
    {
     "name": "stderr",
     "output_type": "stream",
     "text": [
      "100%|██████████| 734/734 [00:02<00:00, 291.40it/s]\n"
     ]
    },
    {
     "name": "stdout",
     "output_type": "stream",
     "text": [
      "Inference complete. Results saved to predictions/batfd/20250708-210705/last_val.json\n"
     ]
    }
   ],
   "source": [
    "infer(infer_args)"
   ]
  },
  {
   "cell_type": "markdown",
   "id": "9f13a834",
   "metadata": {},
   "source": [
    "Evaluate the model:"
   ]
  }
 ],
 "metadata": {
  "kernelspec": {
   "display_name": "venv",
   "language": "python",
   "name": "python3"
  },
  "language_info": {
   "codemirror_mode": {
    "name": "ipython",
    "version": 3
   },
   "file_extension": ".py",
   "mimetype": "text/x-python",
   "name": "python",
   "nbconvert_exporter": "python",
   "pygments_lexer": "ipython3",
   "version": "3.10.12"
  }
 },
 "nbformat": 4,
 "nbformat_minor": 5
}
